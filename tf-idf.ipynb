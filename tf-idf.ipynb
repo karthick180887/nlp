{
 "cells": [
  {
   "cell_type": "code",
   "execution_count": 1,
   "metadata": {},
   "outputs": [],
   "source": [
    "import pandas as pd\n",
    "from sklearn.feature_extraction.text import TfidfVectorizer"
   ]
  },
  {
   "cell_type": "code",
   "execution_count": 2,
   "metadata": {},
   "outputs": [],
   "source": [
    "# Sample sentences\n",
    "sentences = [\n",
    "    \"Good boy\",\n",
    "    \"Good girl\",\n",
    "    \"Boy girl good\"\n",
    "]"
   ]
  },
  {
   "cell_type": "code",
   "execution_count": 3,
   "metadata": {},
   "outputs": [],
   "source": [
    "# Initialize TfidfVectorizer\n",
    "tfidf_vectorizer = TfidfVectorizer()"
   ]
  },
  {
   "cell_type": "code",
   "execution_count": 4,
   "metadata": {},
   "outputs": [],
   "source": [
    "# Fit and transform the sentences to calculate TF-IDF scores\n",
    "X_tfidf = tfidf_vectorizer.fit_transform(sentences)"
   ]
  },
  {
   "cell_type": "code",
   "execution_count": 5,
   "metadata": {},
   "outputs": [],
   "source": [
    "# Get the feature names (vocabulary)\n",
    "feature_names = tfidf_vectorizer.get_feature_names_out()"
   ]
  },
  {
   "cell_type": "code",
   "execution_count": 6,
   "metadata": {},
   "outputs": [],
   "source": [
    "# Convert the TF-IDF matrix to a dense array\n",
    "X_tfidf_array = X_tfidf.toarray()\n"
   ]
  },
  {
   "cell_type": "code",
   "execution_count": 7,
   "metadata": {},
   "outputs": [],
   "source": [
    "# Create a DataFrame to display the TF-IDF scores\n",
    "df_tfidf = pd.DataFrame(X_tfidf_array, columns=feature_names)"
   ]
  },
  {
   "cell_type": "code",
   "execution_count": 8,
   "metadata": {},
   "outputs": [
    {
     "name": "stdout",
     "output_type": "stream",
     "text": [
      "TF-IDF Matrix:\n",
      "        boy      girl      good\n",
      "0  0.789807  0.000000  0.613356\n",
      "1  0.000000  0.789807  0.613356\n",
      "2  0.619805  0.619805  0.481334\n"
     ]
    }
   ],
   "source": [
    "# Display the DataFrame\n",
    "print(\"TF-IDF Matrix:\")\n",
    "print(df_tfidf)"
   ]
  },
  {
   "cell_type": "code",
   "execution_count": 9,
   "metadata": {},
   "outputs": [
    {
     "name": "stdout",
     "output_type": "stream",
     "text": [
      "\n",
      "TF-IDF scores for Sentence 1: \"Good boy\"\n",
      "boy: 0.790\n",
      "girl: 0.000\n",
      "good: 0.613\n",
      "\n",
      "TF-IDF scores for Sentence 2: \"Good girl\"\n",
      "boy: 0.000\n",
      "girl: 0.790\n",
      "good: 0.613\n",
      "\n",
      "TF-IDF scores for Sentence 3: \"Boy girl good\"\n",
      "boy: 0.620\n",
      "girl: 0.620\n",
      "good: 0.481\n"
     ]
    }
   ],
   "source": [
    "# Print the TF-IDF scores for each sentence\n",
    "for i, sentence in enumerate(sentences):\n",
    "    print(f\"\\nTF-IDF scores for Sentence {i + 1}: \\\"{sentence}\\\"\")\n",
    "    for word, score in zip(feature_names, X_tfidf_array[i]):\n",
    "        print(f\"{word}: {score:.3f}\")"
   ]
  },
  {
   "cell_type": "code",
   "execution_count": null,
   "metadata": {},
   "outputs": [],
   "source": []
  }
 ],
 "metadata": {
  "kernelspec": {
   "display_name": "Python 3",
   "language": "python",
   "name": "python3"
  },
  "language_info": {
   "codemirror_mode": {
    "name": "ipython",
    "version": 3
   },
   "file_extension": ".py",
   "mimetype": "text/x-python",
   "name": "python",
   "nbconvert_exporter": "python",
   "pygments_lexer": "ipython3",
   "version": "3.12.5"
  }
 },
 "nbformat": 4,
 "nbformat_minor": 2
}
