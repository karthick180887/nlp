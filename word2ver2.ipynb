{
 "cells": [
  {
   "cell_type": "code",
   "execution_count": 1,
   "metadata": {},
   "outputs": [],
   "source": [
    "import gensim.downloader as api"
   ]
  },
  {
   "cell_type": "code",
   "execution_count": 2,
   "metadata": {},
   "outputs": [
    {
     "name": "stdout",
     "output_type": "stream",
     "text": [
      "Loading pre-trained Word2Vec model...\n",
      "Model loaded successfully!\n"
     ]
    }
   ],
   "source": [
    "# Load the pre-trained Word2Vec model (Google News)\n",
    "print(\"Loading pre-trained Word2Vec model...\")\n",
    "model = api.load(\"word2vec-google-news-300\")\n",
    "print(\"Model loaded successfully!\")\n"
   ]
  },
  {
   "cell_type": "code",
   "execution_count": 7,
   "metadata": {},
   "outputs": [],
   "source": [
    "# Step 1: User query input\n",
    "user_query = \"science\""
   ]
  },
  {
   "cell_type": "code",
   "execution_count": 8,
   "metadata": {},
   "outputs": [
    {
     "name": "stdout",
     "output_type": "stream",
     "text": [
      "Similar terms to 'science':\n",
      "faith_Jezierski (similarity: 0.70)\n",
      "sciences (similarity: 0.68)\n",
      "biology (similarity: 0.68)\n",
      "scientific (similarity: 0.65)\n",
      "mathematics (similarity: 0.63)\n"
     ]
    }
   ],
   "source": [
    "# Step 2: Find similar words using the pre-trained model\n",
    "try:\n",
    "    similar_terms = model.most_similar(user_query, topn=5)\n",
    "    print(f\"Similar terms to '{user_query}':\")\n",
    "    for term, similarity in similar_terms:\n",
    "        print(f\"{term} (similarity: {similarity:.2f})\")\n",
    "except KeyError:\n",
    "    print(f\"The word '{user_query}' is not in the vocabulary of the pre-trained model.\")\n"
   ]
  },
  {
   "cell_type": "code",
   "execution_count": 9,
   "metadata": {},
   "outputs": [],
   "source": [
    "content_database = [\n",
    "    {\"title\": \"Introduction to Machine Learning\", \"term\": \"machine learning\", \"url\": \"https://example.com/machine-learning\"},\n",
    "    {\"title\": \"Big Data Analytics with Python\", \"term\": \"big data\", \"url\": \"https://example.com/big-data\"},\n",
    "    {\"title\": \"Artificial Intelligence: A Modern Approach\", \"term\": \"artificial intelligence\", \"url\": \"https://example.com/ai\"},\n",
    "    {\"title\": \"Deep Learning for Data Science\", \"term\": \"deep learning\", \"url\": \"https://example.com/deep-learning\"},\n",
    "    {\"title\": \"Data Science and Big Data\", \"term\": \"data science\", \"url\": \"https://example.com/data-science\"}\n",
    "]"
   ]
  },
  {
   "cell_type": "code",
   "execution_count": 11,
   "metadata": {},
   "outputs": [
    {
     "name": "stdout",
     "output_type": "stream",
     "text": [
      "<class 'list'>\n"
     ]
    }
   ],
   "source": [
    "print(type(content_database))"
   ]
  },
  {
   "cell_type": "code",
   "execution_count": 12,
   "metadata": {},
   "outputs": [
    {
     "name": "stdout",
     "output_type": "stream",
     "text": [
      "{'title': 'Introduction to Machine Learning', 'term': 'machine learning', 'url': 'https://example.com/machine-learning'}\n"
     ]
    }
   ],
   "source": [
    "print(content_database[0])"
   ]
  },
  {
   "cell_type": "code",
   "execution_count": 13,
   "metadata": {},
   "outputs": [],
   "source": [
    "# Step 4: Find relevant content based on similar terms\n",
    "def query_content_database(similar_terms, content_db):\n",
    "    recommendations = []\n",
    "    for term, _ in similar_terms:\n",
    "        for content in content_db:\n",
    "            if content['term'] == term:\n",
    "                recommendations.append(content)\n",
    "    return recommendations"
   ]
  },
  {
   "cell_type": "code",
   "execution_count": 14,
   "metadata": {},
   "outputs": [],
   "source": [
    "recommendations = query_content_database(similar_terms, content_database)"
   ]
  },
  {
   "cell_type": "code",
   "execution_count": 15,
   "metadata": {},
   "outputs": [
    {
     "name": "stdout",
     "output_type": "stream",
     "text": [
      "\n",
      "Recommended content based on your query:\n",
      "No recommendations found.\n"
     ]
    }
   ],
   "source": [
    "# Step 5: Display recommended content\n",
    "print(\"\\nRecommended content based on your query:\")\n",
    "if recommendations:\n",
    "    for rec in recommendations:\n",
    "        print(f\"Title: {rec['title']}, URL: {rec['url']}\")\n",
    "else:\n",
    "    print(\"No recommendations found.\")"
   ]
  },
  {
   "cell_type": "code",
   "execution_count": null,
   "metadata": {},
   "outputs": [],
   "source": []
  }
 ],
 "metadata": {
  "kernelspec": {
   "display_name": "Python 3",
   "language": "python",
   "name": "python3"
  },
  "language_info": {
   "codemirror_mode": {
    "name": "ipython",
    "version": 3
   },
   "file_extension": ".py",
   "mimetype": "text/x-python",
   "name": "python",
   "nbconvert_exporter": "python",
   "pygments_lexer": "ipython3",
   "version": "3.12.5"
  }
 },
 "nbformat": 4,
 "nbformat_minor": 2
}
