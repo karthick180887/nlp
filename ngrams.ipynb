{
 "cells": [
  {
   "cell_type": "code",
   "execution_count": 1,
   "metadata": {},
   "outputs": [],
   "source": [
    "from sklearn.feature_extraction.text import CountVectorizer\n"
   ]
  },
  {
   "cell_type": "code",
   "execution_count": 6,
   "metadata": {},
   "outputs": [],
   "source": [
    "# Sample sentences\n",
    "sentences = [\n",
    "    \"The cat sat on the mat\",\n",
    "    \"The dog barked at the cat\",\n",
    "    \"The mat is soft and comfortable\"\n",
    "]"
   ]
  },
  {
   "cell_type": "code",
   "execution_count": 7,
   "metadata": {},
   "outputs": [
    {
     "name": "stdout",
     "output_type": "stream",
     "text": [
      "Normal Bag of Words (Count-Based):\n"
     ]
    }
   ],
   "source": [
    "# Normal BoW (count-based)\n",
    "print(\"Normal Bag of Words (Count-Based):\")\n",
    "count_vectorizer = CountVectorizer(max_features=7)  # Default is count-based"
   ]
  },
  {
   "cell_type": "code",
   "execution_count": 8,
   "metadata": {},
   "outputs": [
    {
     "name": "stdout",
     "output_type": "stream",
     "text": [
      "Normal Bag of Words (Count-Based):\n",
      "[[0 0 0 1 0 1 2]\n",
      " [0 1 1 1 0 0 2]\n",
      " [1 0 0 0 1 1 1]]\n"
     ]
    }
   ],
   "source": [
    "# Normal BoW (count-based)\n",
    "print(\"Normal Bag of Words (Count-Based):\")\n",
    "count_vectorizer = CountVectorizer(max_features=7)  # Default is count-based\n",
    "X_count = count_vectorizer.fit_transform(sentences)\n",
    "print(X_count.toarray())"
   ]
  },
  {
   "cell_type": "code",
   "execution_count": 9,
   "metadata": {},
   "outputs": [
    {
     "data": {
      "text/plain": [
       "{'the': 6,\n",
       " 'cat': 3,\n",
       " 'mat': 5,\n",
       " 'barked': 2,\n",
       " 'at': 1,\n",
       " 'and': 0,\n",
       " 'comfortable': 4}"
      ]
     },
     "execution_count": 9,
     "metadata": {},
     "output_type": "execute_result"
    }
   ],
   "source": [
    "count_vectorizer.vocabulary_"
   ]
  },
  {
   "cell_type": "code",
   "execution_count": 12,
   "metadata": {},
   "outputs": [
    {
     "name": "stdout",
     "output_type": "stream",
     "text": [
      "Normal Bag of Words (Count-Based):\n",
      "Normal Bag of Words (Count-Based):\n"
     ]
    },
    {
     "data": {
      "text/plain": [
       "{'the': 4,\n",
       " 'cat': 0,\n",
       " 'mat': 1,\n",
       " 'the cat': 5,\n",
       " 'the mat': 6,\n",
       " 'soft': 2,\n",
       " 'soft and': 3}"
      ]
     },
     "execution_count": 12,
     "metadata": {},
     "output_type": "execute_result"
    }
   ],
   "source": [
    "# Normal BoW (count-based)\n",
    "print(\"Normal Bag of Words (Count-Based):\")\n",
    "count_vectorizer = CountVectorizer(max_features=7)  # Default is count-based\n",
    "# Normal BoW (count-based)\n",
    "print(\"Normal Bag of Words (Count-Based):\")\n",
    "count_vectorizer = CountVectorizer(max_features=7,ngram_range=(1,2))  # Default is count-based\n",
    "X_count = count_vectorizer.fit_transform(sentences)\n",
    "count_vectorizer.vocabulary_"
   ]
  },
  {
   "cell_type": "code",
   "execution_count": null,
   "metadata": {},
   "outputs": [],
   "source": []
  }
 ],
 "metadata": {
  "kernelspec": {
   "display_name": "Python 3",
   "language": "python",
   "name": "python3"
  },
  "language_info": {
   "codemirror_mode": {
    "name": "ipython",
    "version": 3
   },
   "file_extension": ".py",
   "mimetype": "text/x-python",
   "name": "python",
   "nbconvert_exporter": "python",
   "pygments_lexer": "ipython3",
   "version": "3.12.5"
  }
 },
 "nbformat": 4,
 "nbformat_minor": 2
}
