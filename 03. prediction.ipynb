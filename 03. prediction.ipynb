{
 "cells": [
  {
   "cell_type": "code",
   "execution_count": 1,
   "metadata": {},
   "outputs": [],
   "source": [
    "# Step 1: Import Libraries and Load the Model\n",
    "import numpy as np\n",
    "import tensorflow as tf\n",
    "from tensorflow.keras.datasets import imdb\n",
    "from tensorflow.keras.preprocessing import sequence\n",
    "from tensorflow.keras.models import load_model"
   ]
  },
  {
   "cell_type": "code",
   "execution_count": 2,
   "metadata": {},
   "outputs": [],
   "source": [
    "\n",
    "# Load the IMDB dataset word index\n",
    "word_index = imdb.get_word_index()\n",
    "reverse_word_index = {value: key for key, value in word_index.items()}"
   ]
  },
  {
   "cell_type": "code",
   "execution_count": 4,
   "metadata": {},
   "outputs": [
    {
     "name": "stderr",
     "output_type": "stream",
     "text": [
      "WARNING:absl:Compiled the loaded model, but the compiled metrics have yet to be built. `model.compile_metrics` will be empty until you train or evaluate the model.\n"
     ]
    },
    {
     "data": {
      "text/html": [
       "<pre style=\"white-space:pre;overflow-x:auto;line-height:normal;font-family:Menlo,'DejaVu Sans Mono',consolas,'Courier New',monospace\"><span style=\"font-weight: bold\">Model: \"sequential\"</span>\n",
       "</pre>\n"
      ],
      "text/plain": [
       "\u001b[1mModel: \"sequential\"\u001b[0m\n"
      ]
     },
     "metadata": {},
     "output_type": "display_data"
    },
    {
     "data": {
      "text/html": [
       "<pre style=\"white-space:pre;overflow-x:auto;line-height:normal;font-family:Menlo,'DejaVu Sans Mono',consolas,'Courier New',monospace\">┏━━━━━━━━━━━━━━━━━━━━━━━━━━━━━━━━━┳━━━━━━━━━━━━━━━━━━━━━━━━┳━━━━━━━━━━━━━━━┓\n",
       "┃<span style=\"font-weight: bold\"> Layer (type)                    </span>┃<span style=\"font-weight: bold\"> Output Shape           </span>┃<span style=\"font-weight: bold\">       Param # </span>┃\n",
       "┡━━━━━━━━━━━━━━━━━━━━━━━━━━━━━━━━━╇━━━━━━━━━━━━━━━━━━━━━━━━╇━━━━━━━━━━━━━━━┩\n",
       "│ embedding (<span style=\"color: #0087ff; text-decoration-color: #0087ff\">Embedding</span>)           │ (<span style=\"color: #00af00; text-decoration-color: #00af00\">32</span>, <span style=\"color: #00af00; text-decoration-color: #00af00\">500</span>, <span style=\"color: #00af00; text-decoration-color: #00af00\">128</span>)         │     <span style=\"color: #00af00; text-decoration-color: #00af00\">1,280,000</span> │\n",
       "├─────────────────────────────────┼────────────────────────┼───────────────┤\n",
       "│ simple_rnn (<span style=\"color: #0087ff; text-decoration-color: #0087ff\">SimpleRNN</span>)          │ (<span style=\"color: #00af00; text-decoration-color: #00af00\">32</span>, <span style=\"color: #00af00; text-decoration-color: #00af00\">128</span>)              │        <span style=\"color: #00af00; text-decoration-color: #00af00\">32,896</span> │\n",
       "├─────────────────────────────────┼────────────────────────┼───────────────┤\n",
       "│ dense (<span style=\"color: #0087ff; text-decoration-color: #0087ff\">Dense</span>)                   │ (<span style=\"color: #00af00; text-decoration-color: #00af00\">32</span>, <span style=\"color: #00af00; text-decoration-color: #00af00\">1</span>)                │           <span style=\"color: #00af00; text-decoration-color: #00af00\">129</span> │\n",
       "└─────────────────────────────────┴────────────────────────┴───────────────┘\n",
       "</pre>\n"
      ],
      "text/plain": [
       "┏━━━━━━━━━━━━━━━━━━━━━━━━━━━━━━━━━┳━━━━━━━━━━━━━━━━━━━━━━━━┳━━━━━━━━━━━━━━━┓\n",
       "┃\u001b[1m \u001b[0m\u001b[1mLayer (type)                   \u001b[0m\u001b[1m \u001b[0m┃\u001b[1m \u001b[0m\u001b[1mOutput Shape          \u001b[0m\u001b[1m \u001b[0m┃\u001b[1m \u001b[0m\u001b[1m      Param #\u001b[0m\u001b[1m \u001b[0m┃\n",
       "┡━━━━━━━━━━━━━━━━━━━━━━━━━━━━━━━━━╇━━━━━━━━━━━━━━━━━━━━━━━━╇━━━━━━━━━━━━━━━┩\n",
       "│ embedding (\u001b[38;5;33mEmbedding\u001b[0m)           │ (\u001b[38;5;34m32\u001b[0m, \u001b[38;5;34m500\u001b[0m, \u001b[38;5;34m128\u001b[0m)         │     \u001b[38;5;34m1,280,000\u001b[0m │\n",
       "├─────────────────────────────────┼────────────────────────┼───────────────┤\n",
       "│ simple_rnn (\u001b[38;5;33mSimpleRNN\u001b[0m)          │ (\u001b[38;5;34m32\u001b[0m, \u001b[38;5;34m128\u001b[0m)              │        \u001b[38;5;34m32,896\u001b[0m │\n",
       "├─────────────────────────────────┼────────────────────────┼───────────────┤\n",
       "│ dense (\u001b[38;5;33mDense\u001b[0m)                   │ (\u001b[38;5;34m32\u001b[0m, \u001b[38;5;34m1\u001b[0m)                │           \u001b[38;5;34m129\u001b[0m │\n",
       "└─────────────────────────────────┴────────────────────────┴───────────────┘\n"
      ]
     },
     "metadata": {},
     "output_type": "display_data"
    },
    {
     "data": {
      "text/html": [
       "<pre style=\"white-space:pre;overflow-x:auto;line-height:normal;font-family:Menlo,'DejaVu Sans Mono',consolas,'Courier New',monospace\"><span style=\"font-weight: bold\"> Total params: </span><span style=\"color: #00af00; text-decoration-color: #00af00\">1,313,027</span> (5.01 MB)\n",
       "</pre>\n"
      ],
      "text/plain": [
       "\u001b[1m Total params: \u001b[0m\u001b[38;5;34m1,313,027\u001b[0m (5.01 MB)\n"
      ]
     },
     "metadata": {},
     "output_type": "display_data"
    },
    {
     "data": {
      "text/html": [
       "<pre style=\"white-space:pre;overflow-x:auto;line-height:normal;font-family:Menlo,'DejaVu Sans Mono',consolas,'Courier New',monospace\"><span style=\"font-weight: bold\"> Trainable params: </span><span style=\"color: #00af00; text-decoration-color: #00af00\">1,313,025</span> (5.01 MB)\n",
       "</pre>\n"
      ],
      "text/plain": [
       "\u001b[1m Trainable params: \u001b[0m\u001b[38;5;34m1,313,025\u001b[0m (5.01 MB)\n"
      ]
     },
     "metadata": {},
     "output_type": "display_data"
    },
    {
     "data": {
      "text/html": [
       "<pre style=\"white-space:pre;overflow-x:auto;line-height:normal;font-family:Menlo,'DejaVu Sans Mono',consolas,'Courier New',monospace\"><span style=\"font-weight: bold\"> Non-trainable params: </span><span style=\"color: #00af00; text-decoration-color: #00af00\">0</span> (0.00 B)\n",
       "</pre>\n"
      ],
      "text/plain": [
       "\u001b[1m Non-trainable params: \u001b[0m\u001b[38;5;34m0\u001b[0m (0.00 B)\n"
      ]
     },
     "metadata": {},
     "output_type": "display_data"
    },
    {
     "data": {
      "text/html": [
       "<pre style=\"white-space:pre;overflow-x:auto;line-height:normal;font-family:Menlo,'DejaVu Sans Mono',consolas,'Courier New',monospace\"><span style=\"font-weight: bold\"> Optimizer params: </span><span style=\"color: #00af00; text-decoration-color: #00af00\">2</span> (12.00 B)\n",
       "</pre>\n"
      ],
      "text/plain": [
       "\u001b[1m Optimizer params: \u001b[0m\u001b[38;5;34m2\u001b[0m (12.00 B)\n"
      ]
     },
     "metadata": {},
     "output_type": "display_data"
    }
   ],
   "source": [
    "# Load the pre-trained model with ReLU activation\n",
    "model = load_model('simple_rnn_imdb.h5')\n",
    "model.summary()"
   ]
  },
  {
   "cell_type": "code",
   "execution_count": 5,
   "metadata": {},
   "outputs": [
    {
     "data": {
      "text/plain": [
       "[array([[ 0.3271746 ,  0.01646726,  0.06802981, ...,  0.07801103,\n",
       "          0.22182094,  0.09099719],\n",
       "        [ 0.04967388, -0.00946828,  0.00214327, ...,  0.04024528,\n",
       "          0.00361558, -0.03523818],\n",
       "        [-0.01307389, -0.02519376,  0.06137029, ...,  0.14904131,\n",
       "          0.00539237, -0.06144449],\n",
       "        ...,\n",
       "        [ 0.09637009, -0.08656741, -0.06936481, ..., -0.0697952 ,\n",
       "          0.05545063, -0.00189725],\n",
       "        [-0.03623293,  0.08997289,  0.09664785, ...,  0.00608708,\n",
       "         -0.06981308, -0.00543591],\n",
       "        [ 0.07960048, -0.10602405, -0.11193855, ..., -0.13786237,\n",
       "         -0.00847962, -0.05988228]], dtype=float32),\n",
       " array([[-0.10008112, -0.0122289 ,  0.1196697 , ..., -0.06072274,\n",
       "         -0.14557783, -0.09134503],\n",
       "        [ 0.19919464,  0.0287524 , -0.14079094, ..., -0.07761797,\n",
       "         -0.04912648, -0.0621784 ],\n",
       "        [-0.02117983,  0.21118972,  0.1614185 , ...,  0.16996041,\n",
       "          0.10205103, -0.00522288],\n",
       "        ...,\n",
       "        [-0.07627343,  0.12988465, -0.10793098, ...,  0.01440388,\n",
       "          0.08626008, -0.08882999],\n",
       "        [ 0.03907058, -0.14436439, -0.02758777, ...,  0.06308814,\n",
       "         -0.18482023, -0.04964763],\n",
       "        [-0.13525666,  0.17667748, -0.08873933, ...,  0.1159513 ,\n",
       "          0.0215902 , -0.08775391]], dtype=float32),\n",
       " array([[-0.06995967, -0.00790872,  0.09856107, ..., -0.03082053,\n",
       "         -0.02844039, -0.08237148],\n",
       "        [-0.11314603, -0.15048018, -0.21329737, ...,  0.15960926,\n",
       "         -0.02857123,  0.01516432],\n",
       "        [-0.09940796, -0.03846742,  0.18734057, ..., -0.00617018,\n",
       "          0.01060469, -0.05248095],\n",
       "        ...,\n",
       "        [ 0.037508  , -0.05591255,  0.10920591, ...,  0.06489888,\n",
       "         -0.01800111,  0.02795789],\n",
       "        [-0.02251823,  0.14240144,  0.12730494, ...,  0.05369306,\n",
       "         -0.02247092,  0.21380919],\n",
       "        [ 0.08088569,  0.0167313 ,  0.04393103, ...,  0.02441995,\n",
       "          0.4360878 , -0.06621239]], dtype=float32),\n",
       " array([-0.03673752,  0.01529517,  0.01761341,  0.0466124 ,  0.00863281,\n",
       "        -0.03582439, -0.02832503, -0.03724861, -0.04299235,  0.01561967,\n",
       "         0.03218952, -0.03908501,  0.00015826,  0.00906749, -0.02480484,\n",
       "         0.02049301, -0.02315325,  0.00924405, -0.00758143,  0.01065292,\n",
       "         0.00175811, -0.00527853, -0.01556851, -0.05516793,  0.03126106,\n",
       "         0.00951831,  0.01147516, -0.02844292, -0.0457391 , -0.04813118,\n",
       "        -0.00369816, -0.04574093,  0.01220404, -0.03627355,  0.02525734,\n",
       "        -0.02207364, -0.02281984, -0.02554818, -0.00534111, -0.04709438,\n",
       "        -0.0241788 , -0.02344292, -0.0060658 , -0.02109983, -0.03056349,\n",
       "        -0.00732569,  0.02357463, -0.03570791,  0.03931944,  0.04778953,\n",
       "        -0.01391868,  0.01992319,  0.02709479, -0.02254489,  0.00777567,\n",
       "        -0.02517196, -0.01135235,  0.02919257,  0.00785304, -0.04090182,\n",
       "        -0.03709142, -0.03788696,  0.02678758, -0.02906653, -0.00508483,\n",
       "         0.03881054,  0.02156116, -0.04292018,  0.03530327,  0.02646741,\n",
       "        -0.02546324, -0.04057423, -0.04867793,  0.03157558, -0.03198996,\n",
       "        -0.030697  ,  0.02636916, -0.01486126, -0.01128862,  0.0248897 ,\n",
       "        -0.00652682, -0.0325036 , -0.02542421, -0.00200213, -0.02886831,\n",
       "        -0.01322704,  0.02502048, -0.00565181,  0.01729126,  0.06886397,\n",
       "         0.03217037, -0.03021847, -0.02899145, -0.02585857,  0.03206227,\n",
       "        -0.01633134,  0.01143568,  0.02123626, -0.00863253, -0.03612778,\n",
       "        -0.03648722, -0.023566  ,  0.0164669 ,  0.02151989,  0.02526168,\n",
       "         0.02601011, -0.00586021,  0.03576349, -0.02452051, -0.0161003 ,\n",
       "        -0.01832528, -0.01873703,  0.01191021,  0.00079027, -0.00841729,\n",
       "        -0.00880641, -0.03099705, -0.04051967, -0.03379566, -0.00578852,\n",
       "        -0.03041183, -0.02924733, -0.03397779,  0.00189607, -0.02553207,\n",
       "         0.02016735, -0.03364457, -0.00842201], dtype=float32),\n",
       " array([[ 0.20539585],\n",
       "        [-0.1714314 ],\n",
       "        [-0.18714795],\n",
       "        [ 0.09944102],\n",
       "        [ 0.0239165 ],\n",
       "        [ 0.47278988],\n",
       "        [ 0.16569005],\n",
       "        [-0.09247603],\n",
       "        [-0.04480882],\n",
       "        [-0.145557  ],\n",
       "        [-0.0722296 ],\n",
       "        [ 0.03929206],\n",
       "        [ 0.12317047],\n",
       "        [-0.08013568],\n",
       "        [ 0.08562434],\n",
       "        [ 0.10660504],\n",
       "        [-0.15228145],\n",
       "        [-0.01431352],\n",
       "        [-0.20470369],\n",
       "        [ 0.1445045 ],\n",
       "        [-0.09506283],\n",
       "        [-0.10198055],\n",
       "        [-0.13793118],\n",
       "        [ 0.12435541],\n",
       "        [-0.05375579],\n",
       "        [-0.15223525],\n",
       "        [ 0.15508533],\n",
       "        [ 0.01168189],\n",
       "        [-0.18410051],\n",
       "        [-0.17427078],\n",
       "        [-0.08272426],\n",
       "        [ 0.12305369],\n",
       "        [ 0.23405203],\n",
       "        [ 0.1481402 ],\n",
       "        [-0.02359282],\n",
       "        [-0.1953147 ],\n",
       "        [-0.03097865],\n",
       "        [ 0.13135372],\n",
       "        [-0.13545702],\n",
       "        [-0.16794181],\n",
       "        [ 0.00072503],\n",
       "        [ 0.15175234],\n",
       "        [ 0.05472328],\n",
       "        [-0.11488489],\n",
       "        [-0.11156889],\n",
       "        [-0.17299464],\n",
       "        [ 0.16685332],\n",
       "        [ 0.16660744],\n",
       "        [ 0.07202403],\n",
       "        [-0.252101  ],\n",
       "        [ 0.19208802],\n",
       "        [ 0.20389584],\n",
       "        [-0.06518207],\n",
       "        [ 0.11515716],\n",
       "        [-0.41353822],\n",
       "        [-0.0191097 ],\n",
       "        [-0.1541741 ],\n",
       "        [-0.23802955],\n",
       "        [ 0.19206439],\n",
       "        [ 0.19678387],\n",
       "        [ 0.13004039],\n",
       "        [ 0.02437217],\n",
       "        [-0.04476359],\n",
       "        [ 0.18782425],\n",
       "        [ 0.31146997],\n",
       "        [-0.00436322],\n",
       "        [-0.16637193],\n",
       "        [-0.15669976],\n",
       "        [-0.02115687],\n",
       "        [-0.17544636],\n",
       "        [ 0.04570534],\n",
       "        [ 0.2264688 ],\n",
       "        [-0.03334504],\n",
       "        [ 0.13555484],\n",
       "        [ 0.11262727],\n",
       "        [ 0.1513388 ],\n",
       "        [-0.02647646],\n",
       "        [-0.03045139],\n",
       "        [ 0.13296342],\n",
       "        [ 0.08409994],\n",
       "        [-0.00414948],\n",
       "        [ 0.10584117],\n",
       "        [ 0.05189674],\n",
       "        [-0.25272834],\n",
       "        [-0.15738362],\n",
       "        [-0.24190712],\n",
       "        [-0.22869758],\n",
       "        [-0.08297823],\n",
       "        [-0.23493938],\n",
       "        [-0.09920162],\n",
       "        [ 0.15246709],\n",
       "        [ 0.01149123],\n",
       "        [-0.2420294 ],\n",
       "        [ 0.11485859],\n",
       "        [ 0.19103158],\n",
       "        [-0.02177181],\n",
       "        [ 0.11908716],\n",
       "        [-0.08412936],\n",
       "        [ 0.21069941],\n",
       "        [ 0.16977605],\n",
       "        [ 0.11468051],\n",
       "        [ 0.08034471],\n",
       "        [-0.19667366],\n",
       "        [ 0.08067214],\n",
       "        [-0.2254711 ],\n",
       "        [ 0.14418557],\n",
       "        [-0.07523373],\n",
       "        [-0.13908058],\n",
       "        [ 0.18044616],\n",
       "        [ 0.10663467],\n",
       "        [ 0.43381542],\n",
       "        [ 0.13560298],\n",
       "        [-0.1982149 ],\n",
       "        [ 0.300737  ],\n",
       "        [-0.08431937],\n",
       "        [-0.03398261],\n",
       "        [-0.08934705],\n",
       "        [ 0.17743443],\n",
       "        [-0.27378204],\n",
       "        [ 0.0677544 ],\n",
       "        [-0.08321135],\n",
       "        [ 0.10850834],\n",
       "        [ 0.17754191],\n",
       "        [-0.21222194],\n",
       "        [ 0.05326875],\n",
       "        [-0.2378536 ],\n",
       "        [-0.266926  ],\n",
       "        [-0.04765568]], dtype=float32),\n",
       " array([0.5401615], dtype=float32)]"
      ]
     },
     "execution_count": 5,
     "metadata": {},
     "output_type": "execute_result"
    }
   ],
   "source": [
    "model.get_weights()"
   ]
  },
  {
   "cell_type": "code",
   "execution_count": 6,
   "metadata": {},
   "outputs": [],
   "source": [
    "# Step 2: Helper Functions\n",
    "# Function to decode reviews\n",
    "def decode_review(encoded_review):\n",
    "    return ' '.join([reverse_word_index.get(i - 3, '?') for i in encoded_review])\n",
    "\n",
    "# Function to preprocess user input\n",
    "def preprocess_text(text):\n",
    "    words = text.lower().split()\n",
    "    encoded_review = [word_index.get(word, 2) + 3 for word in words]\n",
    "    padded_review = sequence.pad_sequences([encoded_review], maxlen=500)\n",
    "    return padded_review"
   ]
  },
  {
   "cell_type": "code",
   "execution_count": 7,
   "metadata": {},
   "outputs": [],
   "source": [
    "### Prediction  function\n",
    "\n",
    "def predict_sentiment(review):\n",
    "    preprocessed_input=preprocess_text(review)\n",
    "\n",
    "    prediction=model.predict(preprocessed_input)\n",
    "\n",
    "    sentiment = 'Positive' if prediction[0][0] > 0.5 else 'Negative'\n",
    "    \n",
    "    return sentiment, prediction[0][0]\n",
    "\n"
   ]
  },
  {
   "cell_type": "code",
   "execution_count": 8,
   "metadata": {},
   "outputs": [
    {
     "name": "stdout",
     "output_type": "stream",
     "text": [
      "\u001b[1m1/1\u001b[0m \u001b[32m━━━━━━━━━━━━━━━━━━━━\u001b[0m\u001b[37m\u001b[0m \u001b[1m0s\u001b[0m 182ms/step\n",
      "Review: This movie was fantastic! The acting was great and the plot was thrilling.\n",
      "Sentiment: Positive\n",
      "Prediction Score: 0.8243531584739685\n"
     ]
    }
   ],
   "source": [
    "# Step 4: User Input and Prediction\n",
    "# Example review for prediction\n",
    "example_review = \"This movie was fantastic! The acting was great and the plot was thrilling.\"\n",
    "\n",
    "sentiment,score=predict_sentiment(example_review)\n",
    "\n",
    "print(f'Review: {example_review}')\n",
    "print(f'Sentiment: {sentiment}')\n",
    "print(f'Prediction Score: {score}')"
   ]
  },
  {
   "cell_type": "code",
   "execution_count": null,
   "metadata": {},
   "outputs": [],
   "source": []
  },
  {
   "cell_type": "code",
   "execution_count": null,
   "metadata": {},
   "outputs": [],
   "source": []
  },
  {
   "cell_type": "code",
   "execution_count": null,
   "metadata": {},
   "outputs": [],
   "source": []
  },
  {
   "cell_type": "code",
   "execution_count": null,
   "metadata": {},
   "outputs": [],
   "source": []
  }
 ],
 "metadata": {
  "kernelspec": {
   "display_name": "Python 3",
   "language": "python",
   "name": "python3"
  },
  "language_info": {
   "codemirror_mode": {
    "name": "ipython",
    "version": 3
   },
   "file_extension": ".py",
   "mimetype": "text/x-python",
   "name": "python",
   "nbconvert_exporter": "python",
   "pygments_lexer": "ipython3",
   "version": "3.12.5"
  }
 },
 "nbformat": 4,
 "nbformat_minor": 2
}
