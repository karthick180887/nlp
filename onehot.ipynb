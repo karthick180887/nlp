{
 "cells": [
  {
   "cell_type": "code",
   "execution_count": 1,
   "metadata": {},
   "outputs": [],
   "source": [
    "import pandas as pd\n",
    "from sklearn.preprocessing import OneHotEncoder"
   ]
  },
  {
   "cell_type": "code",
   "execution_count": 2,
   "metadata": {},
   "outputs": [],
   "source": [
    "# Sample data based on the image\n",
    "texts = [\"The food is good\", \"The food is bad\", \"Pizza is Amazing\"]\n",
    "outputs = [1, 0, 1]"
   ]
  },
  {
   "cell_type": "code",
   "execution_count": 3,
   "metadata": {},
   "outputs": [],
   "source": [
    "# Step 1: Manually create the vocabulary f\n",
    "# rom the unique words in all texts\n",
    "vocabulary = [\"The\", \"food\", \"is\", \"good\", \"bad\", \"Pizza\", \"Amazing\"]"
   ]
  },
  {
   "cell_type": "code",
   "execution_count": 4,
   "metadata": {},
   "outputs": [],
   "source": [
    "# Step 2: Initialize a one-hot encoded array for each text\n",
    "encoded_texts = []\n",
    "\n",
    "for text in texts:\n",
    "    # Create a binary vector (0 or 1) for the presence of each word in the vocabulary\n",
    "    encoded_vector = [1 if word in text.split() else 0 for word in vocabulary]\n",
    "    encoded_texts.append(encoded_vector)\n"
   ]
  },
  {
   "cell_type": "code",
   "execution_count": 5,
   "metadata": {},
   "outputs": [],
   "source": [
    "# Convert to DataFrame for visualization\n",
    "df_one_hot = pd.DataFrame(encoded_texts, columns=vocabulary)"
   ]
  },
  {
   "cell_type": "code",
   "execution_count": 6,
   "metadata": {},
   "outputs": [],
   "source": [
    "# Add the output column to the DataFrame\n",
    "df_one_hot['Output'] = outputs"
   ]
  },
  {
   "cell_type": "code",
   "execution_count": 7,
   "metadata": {},
   "outputs": [
    {
     "name": "stdout",
     "output_type": "stream",
     "text": [
      "\n",
      "Final DataFrame with One-Hot Encoding:\n",
      "    The  food  is  good  bad  Pizza  Amazing  Output\n",
      "0    1     1   1     1    0      0        0       1\n",
      "1    1     1   1     0    1      0        0       0\n",
      "2    0     0   1     0    0      1        1       1\n"
     ]
    }
   ],
   "source": [
    "# Print the final DataFrame with One-Hot Encoding and output\n",
    "print(\"\\nFinal DataFrame with One-Hot Encoding:\\n\", df_one_hot)"
   ]
  },
  {
   "cell_type": "code",
   "execution_count": null,
   "metadata": {},
   "outputs": [],
   "source": []
  }
 ],
 "metadata": {
  "kernelspec": {
   "display_name": "Python 3",
   "language": "python",
   "name": "python3"
  },
  "language_info": {
   "codemirror_mode": {
    "name": "ipython",
    "version": 3
   },
   "file_extension": ".py",
   "mimetype": "text/x-python",
   "name": "python",
   "nbconvert_exporter": "python",
   "pygments_lexer": "ipython3",
   "version": "3.12.5"
  }
 },
 "nbformat": 4,
 "nbformat_minor": 2
}
