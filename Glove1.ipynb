{
  "cells": [
    {
      "cell_type": "code",
      "execution_count": 1,
      "metadata": {
        "id": "mZMKE57KPcdk"
      },
      "outputs": [],
      "source": [
        "my_vocab = ['apple','orange','shimla','banana','maruti','mumbai','china','india','husband'\n",
        "            ,'wife','brother','sister','red','yellow','computer','mobile','pear','guava']"
      ]
    },
    {
      "cell_type": "code",
      "execution_count": 2,
      "metadata": {
        "id": "uAD7PyZZPhq_"
      },
      "outputs": [],
      "source": [
        "import gensim\n",
        "from sklearn.manifold import TSNE\n",
        "import gensim.downloader as api"
      ]
    },
    {
      "cell_type": "code",
      "execution_count": 4,
      "metadata": {
        "colab": {
          "base_uri": "https://localhost:8080/"
        },
        "id": "qns0JBiyPywZ",
        "outputId": "7bc35861-befc-431f-c17e-ce6f954da47b"
      },
      "outputs": [
        {
          "ename": "AttributeError",
          "evalue": "module 'glove-wiki-gigaword-300' has no attribute 'load_data'",
          "output_type": "error",
          "traceback": [
            "\u001b[1;31m---------------------------------------------------------------------------\u001b[0m",
            "\u001b[1;31mAttributeError\u001b[0m                            Traceback (most recent call last)",
            "Cell \u001b[1;32mIn[4], line 1\u001b[0m\n\u001b[1;32m----> 1\u001b[0m glove_model \u001b[38;5;241m=\u001b[39m \u001b[43mapi\u001b[49m\u001b[38;5;241;43m.\u001b[39;49m\u001b[43mload\u001b[49m\u001b[43m(\u001b[49m\u001b[38;5;124;43m'\u001b[39;49m\u001b[38;5;124;43mglove-wiki-gigaword-300\u001b[39;49m\u001b[38;5;124;43m'\u001b[39;49m\u001b[43m)\u001b[49m\n",
            "File \u001b[1;32mc:\\Users\\Karthick Selvam\\AppData\\Local\\Programs\\Python\\Python312\\Lib\\site-packages\\gensim\\downloader.py:503\u001b[0m, in \u001b[0;36mload\u001b[1;34m(name, return_path)\u001b[0m\n\u001b[0;32m    501\u001b[0m sys\u001b[38;5;241m.\u001b[39mpath\u001b[38;5;241m.\u001b[39minsert(\u001b[38;5;241m0\u001b[39m, BASE_DIR)\n\u001b[0;32m    502\u001b[0m module \u001b[38;5;241m=\u001b[39m \u001b[38;5;28m__import__\u001b[39m(name)\n\u001b[1;32m--> 503\u001b[0m \u001b[38;5;28;01mreturn\u001b[39;00m \u001b[43mmodule\u001b[49m\u001b[38;5;241;43m.\u001b[39;49m\u001b[43mload_data\u001b[49m()\n",
            "\u001b[1;31mAttributeError\u001b[0m: module 'glove-wiki-gigaword-300' has no attribute 'load_data'"
          ]
        }
      ],
      "source": [
        "glove_model = api.load('glove-wiki-gigaword-300')"
      ]
    },
    {
      "cell_type": "code",
      "execution_count": null,
      "metadata": {
        "colab": {
          "base_uri": "https://localhost:8080/"
        },
        "id": "zCPUvSw5P2xl",
        "outputId": "ccfa8132-2756-454c-d0a0-56e72e108e62"
      },
      "outputs": [
        {
          "data": {
            "text/plain": [
              "[('loves', 0.6420262455940247),\n",
              " ('passion', 0.6261469125747681),\n",
              " ('loved', 0.595270574092865),\n",
              " ('romantic', 0.5921086072921753),\n",
              " ('lovers', 0.5904366970062256)]"
            ]
          },
          "execution_count": 4,
          "metadata": {},
          "output_type": "execute_result"
        }
      ],
      "source": [
        "glove_model.most_similar('love',topn=5)"
      ]
    },
    {
      "cell_type": "code",
      "execution_count": null,
      "metadata": {
        "colab": {
          "base_uri": "https://localhost:8080/"
        },
        "id": "VDthbiXvP5SZ",
        "outputId": "49ee5634-f79f-4059-b5c6-edc1d2f284fb"
      },
      "outputs": [
        {
          "data": {
            "text/plain": [
              "[('wife', 0.7732622027397156)]"
            ]
          },
          "execution_count": 5,
          "metadata": {},
          "output_type": "execute_result"
        }
      ],
      "source": [
        "# husband - man + woman = wife\n",
        "glove_model.most_similar(positive= ['woman', 'husband'], negative=['man'],topn=1)"
      ]
    },
    {
      "cell_type": "code",
      "execution_count": null,
      "metadata": {
        "id": "L9Wm7GDdQOJY"
      },
      "outputs": [],
      "source": [
        "words = []\n",
        "vectors = []\n",
        "for word in my_vocab:\n",
        "    words.append(word)\n",
        "    vectors.append(glove_model[word])"
      ]
    },
    {
      "cell_type": "code",
      "execution_count": null,
      "metadata": {
        "id": "p8TRREK0QRd3"
      },
      "outputs": [],
      "source": [
        "dicts = zip(words,vectors)"
      ]
    },
    {
      "cell_type": "code",
      "execution_count": null,
      "metadata": {
        "id": "VSQ8C-5WQrt5"
      },
      "outputs": [],
      "source": [
        "import pandas as pd\n",
        "import numpy as np\n",
        "# pd.DataFrame.from_dict(dicts)"
      ]
    },
    {
      "cell_type": "code",
      "execution_count": null,
      "metadata": {
        "id": "Z7OdUPyqRVjC"
      },
      "outputs": [],
      "source": [
        "dim_model = TSNE(n_components=2, perplexity=3, init='pca', random_state=45)\n",
        "fit_model = dim_model.fit_transform(np.array(vectors))"
      ]
    },
    {
      "cell_type": "code",
      "execution_count": null,
      "metadata": {
        "colab": {
          "base_uri": "https://localhost:8080/"
        },
        "id": "l0Hpex_uRiDc",
        "outputId": "868edb40-c4a5-4801-d40d-95745afaac84"
      },
      "outputs": [
        {
          "data": {
            "text/plain": [
              "array([[ 19.215422 ,  34.85211  ],\n",
              "       [ 47.77074  ,  17.663597 ],\n",
              "       [-11.100541 , -30.177464 ],\n",
              "       [ 24.490843 ,  47.58159  ],\n",
              "       [  4.7730684, -30.616554 ],\n",
              "       [ -6.2003508, -24.605118 ],\n",
              "       [  2.8754706, -16.10858  ],\n",
              "       [ -0.5751663, -22.475227 ],\n",
              "       [-29.527737 ,  16.145689 ],\n",
              "       [-24.952433 ,  12.792942 ],\n",
              "       [-34.736103 ,  10.42366  ],\n",
              "       [-27.149767 ,   5.881508 ],\n",
              "       [ 49.031746 ,   7.0978827],\n",
              "       [ 51.09459  ,  12.178113 ],\n",
              "       [ 15.246805 ,  29.65535  ],\n",
              "       [ 12.180234 ,  24.17477  ],\n",
              "       [ 33.068592 ,  43.2668   ],\n",
              "       [ 30.139277 ,  49.170925 ]], dtype=float32)"
            ]
          },
          "execution_count": 10,
          "metadata": {},
          "output_type": "execute_result"
        }
      ],
      "source": [
        "fit_model"
      ]
    },
    {
      "cell_type": "code",
      "execution_count": null,
      "metadata": {
        "id": "NhBgceaoSOvs"
      },
      "outputs": [],
      "source": [
        "import matplotlib.pyplot as plt"
      ]
    },
    {
      "cell_type": "code",
      "execution_count": null,
      "metadata": {
        "id": "-h7dcuM3SXCa"
      },
      "outputs": [],
      "source": [
        "x = []\n",
        "y = []\n",
        "\n",
        "for i in fit_model:\n",
        "    x.append(i[0])\n",
        "    y.append(i[1])"
      ]
    },
    {
      "cell_type": "code",
      "execution_count": null,
      "metadata": {
        "colab": {
          "base_uri": "https://localhost:8080/",
          "height": 53
        },
        "id": "wYsxjzA6SVGJ",
        "outputId": "a1af2a60-9de1-47aa-def4-3688f0a3c9d2"
      },
      "outputs": [
        {
          "data": {
            "text/plain": [
              "<Figure size 800x800 with 0 Axes>"
            ]
          },
          "execution_count": 13,
          "metadata": {},
          "output_type": "execute_result"
        },
        {
          "data": {
            "text/plain": [
              "<Figure size 800x800 with 0 Axes>"
            ]
          },
          "metadata": {},
          "output_type": "display_data"
        }
      ],
      "source": [
        "plt.figure(figsize=(8,8))\n"
      ]
    },
    {
      "cell_type": "code",
      "execution_count": null,
      "metadata": {
        "colab": {
          "base_uri": "https://localhost:8080/",
          "height": 430
        },
        "id": "xifAIYQZSaYP",
        "outputId": "2d7afb94-d3a3-4559-cefe-af3592cb584e"
      },
      "outputs": [
        {
          "data": {
            "image/png": "[encoded data removed]",
            "text/plain": [
              "<Figure size 640x480 with 1 Axes>"
            ]
          },
          "metadata": {},
          "output_type": "display_data"
        }
      ],
      "source": [
        "for i in range(len(x)):\n",
        "    plt.scatter(x[i],y[i])\n",
        "    plt.annotate(words[i], xy=(x[i],y[i]),\n",
        "                 xytext=(2, 2),\n",
        "                 textcoords='offset points',\n",
        "                 ha='right',\n",
        "                 va='bottom'\n",
        "                )"
      ]
    },
    {
      "cell_type": "code",
      "execution_count": null,
      "metadata": {
        "id": "6OeJx9tuSdKp"
      },
      "outputs": [],
      "source": []
    }
  ],
  "metadata": {
    "colab": {
      "provenance": []
    },
    "kernelspec": {
      "display_name": "Python 3",
      "name": "python3"
    },
    "language_info": {
      "codemirror_mode": {
        "name": "ipython",
        "version": 3
      },
      "file_extension": ".py",
      "mimetype": "text/x-python",
      "name": "python",
      "nbconvert_exporter": "python",
      "pygments_lexer": "ipython3",
      "version": "3.12.5"
    }
  },
  "nbformat": 4,
  "nbformat_minor": 0
}
