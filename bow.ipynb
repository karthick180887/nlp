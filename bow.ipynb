{
 "cells": [
  {
   "cell_type": "code",
   "execution_count": 2,
   "metadata": {},
   "outputs": [],
   "source": [
    "from sklearn.feature_extraction.text import CountVectorizer\n"
   ]
  },
  {
   "cell_type": "code",
   "execution_count": 3,
   "metadata": {},
   "outputs": [],
   "source": [
    "# Sample sentences\n",
    "sentences = [\n",
    "    \"The cat sat on the mat\",\n",
    "    \"The dog barked at the cat\",\n",
    "    \"The mat is soft and comfortable\"\n",
    "]"
   ]
  },
  {
   "cell_type": "code",
   "execution_count": 12,
   "metadata": {},
   "outputs": [
    {
     "name": "stdout",
     "output_type": "stream",
     "text": [
      "Normal Bag of Words (Count-Based):\n"
     ]
    }
   ],
   "source": [
    "# Normal BoW (count-based)\n",
    "print(\"Normal Bag of Words (Count-Based):\")\n",
    "count_vectorizer = CountVectorizer(max_features=7)  # Default is count-based"
   ]
  },
  {
   "cell_type": "code",
   "execution_count": 15,
   "metadata": {},
   "outputs": [
    {
     "name": "stdout",
     "output_type": "stream",
     "text": [
      "Normal Bag of Words (Count-Based):\n"
     ]
    }
   ],
   "source": [
    "# Normal BoW (count-based)\n",
    "print(\"Normal Bag of Words (Count-Based):\")\n",
    "count_vectorizer = CountVectorizer()  # Default is count-based\n",
    "X_count = count_vectorizer.fit_transform(sentences)\n",
    "feature_names_count = count_vectorizer.get_feature_names_out()\n",
    "X_count_array = X_count.toarray()"
   ]
  },
  {
   "cell_type": "code",
   "execution_count": 19,
   "metadata": {},
   "outputs": [
    {
     "name": "stdout",
     "output_type": "stream",
     "text": [
      "\n",
      "Binary Bag of Words:\n",
      "Feature Names: ['and' 'at' 'barked' 'cat' 'comfortable' 'mat' 'the']\n",
      "BoW Matrix (Binary):\n",
      " [[0 0 0 1 0 1 1]\n",
      " [0 1 1 1 0 0 1]\n",
      " [1 0 0 0 1 1 1]]\n"
     ]
    }
   ],
   "source": [
    "# Binary BoW\n",
    "print(\"\\nBinary Bag of Words:\")\n",
    "binary_vectorizer = CountVectorizer(binary=True,max_features=7)  # Set binary=True for binary BoW\n",
    "X_binary = binary_vectorizer.fit_transform(sentences)\n",
    "print(\"Feature Names:\", binary_vectorizer.get_feature_names_out())\n",
    "print(\"BoW Matrix (Binary):\\n\", X_binary.toarray())"
   ]
  },
  {
   "cell_type": "code",
   "execution_count": 20,
   "metadata": {},
   "outputs": [
    {
     "name": "stdout",
     "output_type": "stream",
     "text": [
      "Feature Names: ['and' 'at' 'barked' 'cat' 'comfortable' 'dog' 'is' 'mat' 'on' 'sat'\n",
      " 'soft' 'the']\n",
      "BoW Matrix (Count-Based):\n",
      "   and  at  barked  cat  comfortable  dog  is  mat  on  sat  soft  the\n",
      "0    0   0       0    1            0    0   0    1   1    1     0    2\n",
      "1    0   1       1    1            0    1   0    0   0    0     0    2\n",
      "2    1   0       0    0            1    0   1    1   0    0     1    1\n"
     ]
    }
   ],
   "source": [
    "import pandas as pd\n",
    "# Create DataFrame for count-based BoW\n",
    "df_count = pd.DataFrame(X_count_array, columns=feature_names_count)\n",
    "print(\"Feature Names:\", feature_names_count)\n",
    "print(\"BoW Matrix (Count-Based):\")\n",
    "print(df_count)"
   ]
  },
  {
   "cell_type": "code",
   "execution_count": 21,
   "metadata": {},
   "outputs": [
    {
     "name": "stdout",
     "output_type": "stream",
     "text": [
      "\n",
      "Word Frequencies in Each Sentence (Count-Based):\n",
      "\n",
      "Sentence 1: The cat sat on the mat\n",
      "and: 0\n",
      "at: 0\n",
      "barked: 0\n",
      "cat: 1\n",
      "comfortable: 0\n",
      "dog: 0\n",
      "is: 0\n",
      "mat: 1\n",
      "on: 1\n",
      "sat: 1\n",
      "soft: 0\n",
      "the: 2\n",
      "\n",
      "Sentence 2: The dog barked at the cat\n",
      "and: 0\n",
      "at: 1\n",
      "barked: 1\n",
      "cat: 1\n",
      "comfortable: 0\n",
      "dog: 1\n",
      "is: 0\n",
      "mat: 0\n",
      "on: 0\n",
      "sat: 0\n",
      "soft: 0\n",
      "the: 2\n",
      "\n",
      "Sentence 3: The mat is soft and comfortable\n",
      "and: 1\n",
      "at: 0\n",
      "barked: 0\n",
      "cat: 0\n",
      "comfortable: 1\n",
      "dog: 0\n",
      "is: 1\n",
      "mat: 1\n",
      "on: 0\n",
      "sat: 0\n",
      "soft: 1\n",
      "the: 1\n"
     ]
    }
   ],
   "source": [
    "# Print frequency for each sentence with vocabulary\n",
    "print(\"\\nWord Frequencies in Each Sentence (Count-Based):\")\n",
    "for i, sentence in enumerate(sentences):\n",
    "    print(f\"\\nSentence {i + 1}: {sentence}\")\n",
    "    for word, freq in zip(feature_names_count, X_count_array[i]):\n",
    "        print(f\"{word}: {freq}\")"
   ]
  },
  {
   "cell_type": "code",
   "execution_count": null,
   "metadata": {},
   "outputs": [],
   "source": []
  }
 ],
 "metadata": {
  "kernelspec": {
   "display_name": "Python 3",
   "language": "python",
   "name": "python3"
  },
  "language_info": {
   "codemirror_mode": {
    "name": "ipython",
    "version": 3
   },
   "file_extension": ".py",
   "mimetype": "text/x-python",
   "name": "python",
   "nbconvert_exporter": "python",
   "pygments_lexer": "ipython3",
   "version": "3.12.5"
  }
 },
 "nbformat": 4,
 "nbformat_minor": 2
}
