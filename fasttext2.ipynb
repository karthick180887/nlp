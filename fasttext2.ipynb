{
  "nbformat": 4,
  "nbformat_minor": 0,
  "metadata": {
    "colab": {
      "provenance": []
    },
    "kernelspec": {
      "name": "python3",
      "display_name": "Python 3"
    },
    "language_info": {
      "name": "python"
    },
    "widgets": {
      "application/vnd.jupyter.widget-state+json": {
        "b036fb4ed2324851bdfd649a36794a95": {
          "model_module": "@jupyter-widgets/controls",
          "model_name": "HBoxModel",
          "model_module_version": "1.5.0",
          "state": {
            "_dom_classes": [],
            "_model_module": "@jupyter-widgets/controls",
            "_model_module_version": "1.5.0",
            "_model_name": "HBoxModel",
            "_view_count": null,
            "_view_module": "@jupyter-widgets/controls",
            "_view_module_version": "1.5.0",
            "_view_name": "HBoxView",
            "box_style": "",
            "children": [
              "IPY_MODEL_d0b99bfc45d94427b5dbd57031680255",
              "IPY_MODEL_161acfe02398428e82b8bc3839eb693b",
              "IPY_MODEL_73169b7b4eec40f68466468c359ad693"
            ],
            "layout": "IPY_MODEL_dd8f1b420adc433dbb6cc40597555a07"
          }
        },
        "d0b99bfc45d94427b5dbd57031680255": {
          "model_module": "@jupyter-widgets/controls",
          "model_name": "HTMLModel",
          "model_module_version": "1.5.0",
          "state": {
            "_dom_classes": [],
            "_model_module": "@jupyter-widgets/controls",
            "_model_module_version": "1.5.0",
            "_model_name": "HTMLModel",
            "_view_count": null,
            "_view_module": "@jupyter-widgets/controls",
            "_view_module_version": "1.5.0",
            "_view_name": "HTMLView",
            "description": "",
            "description_tooltip": null,
            "layout": "IPY_MODEL_ce7e7b1b2c4846e69ec70a3cf3794518",
            "placeholder": "​",
            "style": "IPY_MODEL_eee6a62986504a3dad7aca85a0641a4b",
            "value": "model.bin: 100%"
          }
        },
        "161acfe02398428e82b8bc3839eb693b": {
          "model_module": "@jupyter-widgets/controls",
          "model_name": "FloatProgressModel",
          "model_module_version": "1.5.0",
          "state": {
            "_dom_classes": [],
            "_model_module": "@jupyter-widgets/controls",
            "_model_module_version": "1.5.0",
            "_model_name": "FloatProgressModel",
            "_view_count": null,
            "_view_module": "@jupyter-widgets/controls",
            "_view_module_version": "1.5.0",
            "_view_name": "ProgressView",
            "bar_style": "success",
            "description": "",
            "description_tooltip": null,
            "layout": "IPY_MODEL_806c6f6e3caa4ee3b356a22345e4e071",
            "max": 7237176312,
            "min": 0,
            "orientation": "horizontal",
            "style": "IPY_MODEL_0dc052f3a55f41feb1fcad21de67d2b3",
            "value": 7237176312
          }
        },
        "73169b7b4eec40f68466468c359ad693": {
          "model_module": "@jupyter-widgets/controls",
          "model_name": "HTMLModel",
          "model_module_version": "1.5.0",
          "state": {
            "_dom_classes": [],
            "_model_module": "@jupyter-widgets/controls",
            "_model_module_version": "1.5.0",
            "_model_name": "HTMLModel",
            "_view_count": null,
            "_view_module": "@jupyter-widgets/controls",
            "_view_module_version": "1.5.0",
            "_view_name": "HTMLView",
            "description": "",
            "description_tooltip": null,
            "layout": "IPY_MODEL_30a6dedc1f3247a19160103eccbe22de",
            "placeholder": "​",
            "style": "IPY_MODEL_6ee9a9e997d8465eb2cc9cc986b7e360",
            "value": " 7.24G/7.24G [01:11&lt;00:00, 143MB/s]"
          }
        },
        "dd8f1b420adc433dbb6cc40597555a07": {
          "model_module": "@jupyter-widgets/base",
          "model_name": "LayoutModel",
          "model_module_version": "1.2.0",
          "state": {
            "_model_module": "@jupyter-widgets/base",
            "_model_module_version": "1.2.0",
            "_model_name": "LayoutModel",
            "_view_count": null,
            "_view_module": "@jupyter-widgets/base",
            "_view_module_version": "1.2.0",
            "_view_name": "LayoutView",
            "align_content": null,
            "align_items": null,
            "align_self": null,
            "border": null,
            "bottom": null,
            "display": null,
            "flex": null,
            "flex_flow": null,
            "grid_area": null,
            "grid_auto_columns": null,
            "grid_auto_flow": null,
            "grid_auto_rows": null,
            "grid_column": null,
            "grid_gap": null,
            "grid_row": null,
            "grid_template_areas": null,
            "grid_template_columns": null,
            "grid_template_rows": null,
            "height": null,
            "justify_content": null,
            "justify_items": null,
            "left": null,
            "margin": null,
            "max_height": null,
            "max_width": null,
            "min_height": null,
            "min_width": null,
            "object_fit": null,
            "object_position": null,
            "order": null,
            "overflow": null,
            "overflow_x": null,
            "overflow_y": null,
            "padding": null,
            "right": null,
            "top": null,
            "visibility": null,
            "width": null
          }
        },
        "ce7e7b1b2c4846e69ec70a3cf3794518": {
          "model_module": "@jupyter-widgets/base",
          "model_name": "LayoutModel",
          "model_module_version": "1.2.0",
          "state": {
            "_model_module": "@jupyter-widgets/base",
            "_model_module_version": "1.2.0",
            "_model_name": "LayoutModel",
            "_view_count": null,
            "_view_module": "@jupyter-widgets/base",
            "_view_module_version": "1.2.0",
            "_view_name": "LayoutView",
            "align_content": null,
            "align_items": null,
            "align_self": null,
            "border": null,
            "bottom": null,
            "display": null,
            "flex": null,
            "flex_flow": null,
            "grid_area": null,
            "grid_auto_columns": null,
            "grid_auto_flow": null,
            "grid_auto_rows": null,
            "grid_column": null,
            "grid_gap": null,
            "grid_row": null,
            "grid_template_areas": null,
            "grid_template_columns": null,
            "grid_template_rows": null,
            "height": null,
            "justify_content": null,
            "justify_items": null,
            "left": null,
            "margin": null,
            "max_height": null,
            "max_width": null,
            "min_height": null,
            "min_width": null,
            "object_fit": null,
            "object_position": null,
            "order": null,
            "overflow": null,
            "overflow_x": null,
            "overflow_y": null,
            "padding": null,
            "right": null,
            "top": null,
            "visibility": null,
            "width": null
          }
        },
        "eee6a62986504a3dad7aca85a0641a4b": {
          "model_module": "@jupyter-widgets/controls",
          "model_name": "DescriptionStyleModel",
          "model_module_version": "1.5.0",
          "state": {
            "_model_module": "@jupyter-widgets/controls",
            "_model_module_version": "1.5.0",
            "_model_name": "DescriptionStyleModel",
            "_view_count": null,
            "_view_module": "@jupyter-widgets/base",
            "_view_module_version": "1.2.0",
            "_view_name": "StyleView",
            "description_width": ""
          }
        },
        "806c6f6e3caa4ee3b356a22345e4e071": {
          "model_module": "@jupyter-widgets/base",
          "model_name": "LayoutModel",
          "model_module_version": "1.2.0",
          "state": {
            "_model_module": "@jupyter-widgets/base",
            "_model_module_version": "1.2.0",
            "_model_name": "LayoutModel",
            "_view_count": null,
            "_view_module": "@jupyter-widgets/base",
            "_view_module_version": "1.2.0",
            "_view_name": "LayoutView",
            "align_content": null,
            "align_items": null,
            "align_self": null,
            "border": null,
            "bottom": null,
            "display": null,
            "flex": null,
            "flex_flow": null,
            "grid_area": null,
            "grid_auto_columns": null,
            "grid_auto_flow": null,
            "grid_auto_rows": null,
            "grid_column": null,
            "grid_gap": null,
            "grid_row": null,
            "grid_template_areas": null,
            "grid_template_columns": null,
            "grid_template_rows": null,
            "height": null,
            "justify_content": null,
            "justify_items": null,
            "left": null,
            "margin": null,
            "max_height": null,
            "max_width": null,
            "min_height": null,
            "min_width": null,
            "object_fit": null,
            "object_position": null,
            "order": null,
            "overflow": null,
            "overflow_x": null,
            "overflow_y": null,
            "padding": null,
            "right": null,
            "top": null,
            "visibility": null,
            "width": null
          }
        },
        "0dc052f3a55f41feb1fcad21de67d2b3": {
          "model_module": "@jupyter-widgets/controls",
          "model_name": "ProgressStyleModel",
          "model_module_version": "1.5.0",
          "state": {
            "_model_module": "@jupyter-widgets/controls",
            "_model_module_version": "1.5.0",
            "_model_name": "ProgressStyleModel",
            "_view_count": null,
            "_view_module": "@jupyter-widgets/base",
            "_view_module_version": "1.2.0",
            "_view_name": "StyleView",
            "bar_color": null,
            "description_width": ""
          }
        },
        "30a6dedc1f3247a19160103eccbe22de": {
          "model_module": "@jupyter-widgets/base",
          "model_name": "LayoutModel",
          "model_module_version": "1.2.0",
          "state": {
            "_model_module": "@jupyter-widgets/base",
            "_model_module_version": "1.2.0",
            "_model_name": "LayoutModel",
            "_view_count": null,
            "_view_module": "@jupyter-widgets/base",
            "_view_module_version": "1.2.0",
            "_view_name": "LayoutView",
            "align_content": null,
            "align_items": null,
            "align_self": null,
            "border": null,
            "bottom": null,
            "display": null,
            "flex": null,
            "flex_flow": null,
            "grid_area": null,
            "grid_auto_columns": null,
            "grid_auto_flow": null,
            "grid_auto_rows": null,
            "grid_column": null,
            "grid_gap": null,
            "grid_row": null,
            "grid_template_areas": null,
            "grid_template_columns": null,
            "grid_template_rows": null,
            "height": null,
            "justify_content": null,
            "justify_items": null,
            "left": null,
            "margin": null,
            "max_height": null,
            "max_width": null,
            "min_height": null,
            "min_width": null,
            "object_fit": null,
            "object_position": null,
            "order": null,
            "overflow": null,
            "overflow_x": null,
            "overflow_y": null,
            "padding": null,
            "right": null,
            "top": null,
            "visibility": null,
            "width": null
          }
        },
        "6ee9a9e997d8465eb2cc9cc986b7e360": {
          "model_module": "@jupyter-widgets/controls",
          "model_name": "DescriptionStyleModel",
          "model_module_version": "1.5.0",
          "state": {
            "_model_module": "@jupyter-widgets/controls",
            "_model_module_version": "1.5.0",
            "_model_name": "DescriptionStyleModel",
            "_view_count": null,
            "_view_module": "@jupyter-widgets/base",
            "_view_module_version": "1.2.0",
            "_view_name": "StyleView",
            "description_width": ""
          }
        }
      }
    }
  },
  "cells": [
    {
      "cell_type": "code",
      "execution_count": 1,
      "metadata": {
        "colab": {
          "base_uri": "https://localhost:8080/"
        },
        "id": "6IzCGi9V_2Wg",
        "outputId": "09ed65a3-98a0-4ced-b43b-4840f1294a02"
      },
      "outputs": [
        {
          "output_type": "stream",
          "name": "stdout",
          "text": [
            "Collecting fasttext\n",
            "  Downloading fasttext-0.9.3.tar.gz (73 kB)\n",
            "\u001b[2K     \u001b[90m━━━━━━━━━━━━━━━━━━━━━━━━━━━━━━━━━━━━━━━━\u001b[0m \u001b[32m73.4/73.4 kB\u001b[0m \u001b[31m865.2 kB/s\u001b[0m eta \u001b[36m0:00:00\u001b[0m\n",
            "\u001b[?25h  Installing build dependencies ... \u001b[?25l\u001b[?25hdone\n",
            "  Getting requirements to build wheel ... \u001b[?25l\u001b[?25hdone\n",
            "  Preparing metadata (pyproject.toml) ... \u001b[?25l\u001b[?25hdone\n",
            "Collecting pybind11>=2.2 (from fasttext)\n",
            "  Using cached pybind11-2.13.5-py3-none-any.whl.metadata (9.5 kB)\n",
            "Requirement already satisfied: setuptools>=0.7.0 in /usr/local/lib/python3.10/dist-packages (from fasttext) (71.0.4)\n",
            "Requirement already satisfied: numpy in /usr/local/lib/python3.10/dist-packages (from fasttext) (1.26.4)\n",
            "Using cached pybind11-2.13.5-py3-none-any.whl (240 kB)\n",
            "Building wheels for collected packages: fasttext\n",
            "  Building wheel for fasttext (pyproject.toml) ... \u001b[?25l\u001b[?25hdone\n",
            "  Created wheel for fasttext: filename=fasttext-0.9.3-cp310-cp310-linux_x86_64.whl size=4246560 sha256=4fd72d1cee33a4f84f2753d412d73ce8bf8ac2cb3e0375702cd495d3e53725ba\n",
            "  Stored in directory: /root/.cache/pip/wheels/0d/a2/00/81db54d3e6a8199b829d58e02cec2ddb20ce3e59fad8d3c92a\n",
            "Successfully built fasttext\n",
            "Installing collected packages: pybind11, fasttext\n",
            "Successfully installed fasttext-0.9.3 pybind11-2.13.5\n"
          ]
        }
      ],
      "source": [
        "!pip install fasttext"
      ]
    },
    {
      "cell_type": "code",
      "source": [
        "import fasttext\n",
        "import tempfile"
      ],
      "metadata": {
        "id": "J0IQXklJ_4bW"
      },
      "execution_count": 2,
      "outputs": []
    },
    {
      "cell_type": "code",
      "source": [
        "corpus = [\n",
        "    \"This is the first sentence.\",\n",
        "    \"FastText is useful for word embeddings.\",\n",
        "    \"Building custom word vectors can help in specific NLP tasks.\",\n",
        "    \"Custom models can be trained on specific data.\",\n",
        "    \"FastText models work with subword information.\"\n",
        "]"
      ],
      "metadata": {
        "id": "cZ_FYB6pAMXf"
      },
      "execution_count": 3,
      "outputs": []
    },
    {
      "cell_type": "code",
      "source": [
        "# Step 2: Write the corpus to a temporary file (FastText requires a file input)\n",
        "with tempfile.NamedTemporaryFile(delete=False, mode='w') as temp_file:\n",
        "    for sentence in corpus:\n",
        "        temp_file.write(sentence + '\\n')\n",
        "    corpus_file = temp_file.name  # Get the path of the temporary file"
      ],
      "metadata": {
        "id": "yjXiTOugASEP"
      },
      "execution_count": 4,
      "outputs": []
    },
    {
      "cell_type": "code",
      "source": [
        "from huggingface_hub import hf_hub_download\n",
        "model_path = hf_hub_download(repo_id=\"facebook/fasttext-en-vectors\", filename=\"model.bin\")\n",
        "model = fasttext.load_model(model_path)"
      ],
      "metadata": {
        "colab": {
          "base_uri": "https://localhost:8080/",
          "height": 173,
          "referenced_widgets": [
            "b036fb4ed2324851bdfd649a36794a95",
            "d0b99bfc45d94427b5dbd57031680255",
            "161acfe02398428e82b8bc3839eb693b",
            "73169b7b4eec40f68466468c359ad693",
            "dd8f1b420adc433dbb6cc40597555a07",
            "ce7e7b1b2c4846e69ec70a3cf3794518",
            "eee6a62986504a3dad7aca85a0641a4b",
            "806c6f6e3caa4ee3b356a22345e4e071",
            "0dc052f3a55f41feb1fcad21de67d2b3",
            "30a6dedc1f3247a19160103eccbe22de",
            "6ee9a9e997d8465eb2cc9cc986b7e360"
          ]
        },
        "id": "mAt6yoCyAhjD",
        "outputId": "9c1a3fdf-2b47-4ac0-981b-0d77d6fae730"
      },
      "execution_count": 6,
      "outputs": [
        {
          "output_type": "stream",
          "name": "stderr",
          "text": [
            "/usr/local/lib/python3.10/dist-packages/huggingface_hub/utils/_token.py:89: UserWarning: \n",
            "The secret `HF_TOKEN` does not exist in your Colab secrets.\n",
            "To authenticate with the Hugging Face Hub, create a token in your settings tab (https://huggingface.co/settings/tokens), set it as secret in your Google Colab and restart your session.\n",
            "You will be able to reuse this secret in all of your notebooks.\n",
            "Please note that authentication is recommended but still optional to access public models or datasets.\n",
            "  warnings.warn(\n"
          ]
        },
        {
          "output_type": "display_data",
          "data": {
            "text/plain": [
              "model.bin:   0%|          | 0.00/7.24G [00:00<?, ?B/s]"
            ],
            "application/vnd.jupyter.widget-view+json": {
              "version_major": 2,
              "version_minor": 0,
              "model_id": "b036fb4ed2324851bdfd649a36794a95"
            }
          },
          "metadata": {}
        }
      ]
    },
    {
      "cell_type": "code",
      "source": [
        "# Step 3: Train the FastText model on your corpus\n",
        "model = fasttext.train_unsupervised(corpus_file, model='skipgram', dim=100)"
      ],
      "metadata": {
        "id": "BEEP2J1CAeKX"
      },
      "execution_count": 15,
      "outputs": []
    },
    {
      "cell_type": "code",
      "source": [
        "# Step 5: Use the trained model to get word vectors\n",
        "word = \"FastText\"\n",
        "vector = model.get_word_vector(word)\n",
        "print(f\"Word vector for '{word}':\\n{vector}\")"
      ],
      "metadata": {
        "colab": {
          "base_uri": "https://localhost:8080/"
        },
        "id": "x9WPVSWCAr8L",
        "outputId": "ccd94b7d-f672-4ef4-d335-f6323aa0c7b8"
      },
      "execution_count": 16,
      "outputs": [
        {
          "output_type": "stream",
          "name": "stdout",
          "text": [
            "Word vector for 'FastText':\n",
            "[-3.0136533e-04 -4.1757902e-04 -3.5879004e-04  2.6672416e-05\n",
            "  4.4478226e-04 -8.4880635e-04 -3.2998520e-04  6.8063920e-05\n",
            " -7.9055499e-05 -1.3583730e-04  1.8145256e-04  3.3992768e-04\n",
            " -1.2762639e-04 -7.1687356e-04  4.7122134e-04 -2.2702651e-04\n",
            "  2.5846501e-04  7.2794809e-04  2.1307060e-04  5.5057072e-04\n",
            "  2.6890845e-04  6.2590122e-04 -1.4957707e-04  1.6234819e-04\n",
            " -2.7452162e-04 -3.2583936e-04 -2.0274814e-04  4.7341443e-04\n",
            "  2.6741336e-04 -4.4218072e-04  1.8807962e-04 -1.8221518e-04\n",
            " -4.8313799e-04 -5.6896592e-04  7.8948546e-04  4.9881486e-04\n",
            "  5.1929348e-04 -8.5906382e-04  5.7622936e-05 -3.5033624e-06\n",
            "  4.4361825e-04  4.7659007e-05 -4.5278491e-04 -2.1116804e-04\n",
            "  8.5194584e-04 -1.2865863e-04 -6.8417611e-04  5.9169521e-05\n",
            "  3.8130052e-04 -2.4729482e-06  9.5233721e-05  4.2265201e-05\n",
            " -1.7554800e-04 -4.4927211e-04  9.5930224e-04 -1.9436450e-04\n",
            "  5.3330295e-04 -1.4486634e-04  8.9483590e-05  1.8222444e-04\n",
            "  8.1576494e-04  4.2452550e-04  2.2893105e-04 -1.8921950e-04\n",
            " -6.5326528e-04  7.6663775e-05 -4.5253037e-04 -1.7661287e-04\n",
            " -3.3059696e-04 -5.5577874e-04 -1.0135942e-03  9.3281327e-04\n",
            " -6.3275476e-04 -5.7960325e-04 -1.3672390e-04 -2.6482981e-04\n",
            "  2.6578110e-04 -2.1053345e-05  7.1106752e-04  1.9399659e-04\n",
            " -3.4632019e-04 -2.8733991e-04 -3.0645958e-04 -3.4098400e-04\n",
            " -5.9097511e-04  8.6001564e-05 -1.6281288e-04  4.2556575e-04\n",
            "  2.0167809e-05 -9.5977630e-05 -7.3234295e-04  5.1737286e-04\n",
            " -1.4433301e-04  6.4452010e-04  1.4398304e-04  6.1762723e-04\n",
            " -5.7243498e-04  8.7180786e-04 -4.3496449e-04  1.7728480e-04]\n"
          ]
        }
      ]
    },
    {
      "cell_type": "code",
      "source": [
        "vector.size"
      ],
      "metadata": {
        "colab": {
          "base_uri": "https://localhost:8080/"
        },
        "id": "Bs5NggtSA4-7",
        "outputId": "61a1598b-96f0-4424-9a99-48fd9769d220"
      },
      "execution_count": 17,
      "outputs": [
        {
          "output_type": "execute_result",
          "data": {
            "text/plain": [
              "100"
            ]
          },
          "metadata": {},
          "execution_count": 17
        }
      ]
    },
    {
      "cell_type": "code",
      "source": [
        "model.words"
      ],
      "metadata": {
        "colab": {
          "base_uri": "https://localhost:8080/"
        },
        "id": "8PA9xXPSA_ZE",
        "outputId": "2943728c-daa8-436c-c6ae-141dbabfe969"
      },
      "execution_count": 18,
      "outputs": [
        {
          "output_type": "execute_result",
          "data": {
            "text/plain": [
              "['</s>']"
            ]
          },
          "metadata": {},
          "execution_count": 18
        }
      ]
    },
    {
      "cell_type": "code",
      "source": [],
      "metadata": {
        "id": "Xln5of2hCM16"
      },
      "execution_count": null,
      "outputs": []
    }
  ]
}